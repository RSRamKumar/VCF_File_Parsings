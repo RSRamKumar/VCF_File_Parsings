{
 "cells": [
  {
   "cell_type": "code",
   "execution_count": 1,
   "metadata": {},
   "outputs": [],
   "source": [
    "import pandas as pd\n",
    "import requests\n",
    "from bs4 import BeautifulSoup"
   ]
  },
  {
   "cell_type": "code",
   "execution_count": 2,
   "metadata": {},
   "outputs": [],
   "source": [
    "response = requests.get('https://stripy.org/database').text"
   ]
  },
  {
   "cell_type": "code",
   "execution_count": 3,
   "metadata": {},
   "outputs": [],
   "source": [
    "soup = BeautifulSoup(response, \"html.parser\")"
   ]
  },
  {
   "cell_type": "code",
   "execution_count": 4,
   "metadata": {},
   "outputs": [],
   "source": [
    "#print(soup.prettify())"
   ]
  },
  {
   "cell_type": "code",
   "execution_count": 5,
   "metadata": {},
   "outputs": [],
   "source": [
    "table_content = soup.find('table')\n",
    "#table_content"
   ]
  },
  {
   "cell_type": "code",
   "execution_count": 6,
   "metadata": {},
   "outputs": [],
   "source": [
    "table_body = table_content.find('tbody')\n",
    "rows = table_body.find_all('tr')"
   ]
  },
  {
   "cell_type": "code",
   "execution_count": 7,
   "metadata": {},
   "outputs": [
    {
     "data": {
      "text/plain": [
       "['Locus', 'Repeat type', 'Motif', 'Region', 'Path. repeats', 'Disease']"
      ]
     },
     "execution_count": 7,
     "metadata": {},
     "output_type": "execute_result"
    }
   ],
   "source": [
    "column_headers = [i.text for i in rows[0].find_all('th') ]\n",
    "column_headers"
   ]
  },
  {
   "cell_type": "code",
   "execution_count": 8,
   "metadata": {},
   "outputs": [],
   "source": [
    "str_data_dict = {}\n",
    "for row in rows[1:]:\n",
    "    parsed_data = [i.text for i in row.find_all('td') ]\n",
    "    #print([i.text for i in row.find_all('td') ]) \n",
    "    str_data_dict[parsed_data[0]] = parsed_data[1:]\n"
   ]
  },
  {
   "cell_type": "code",
   "execution_count": 9,
   "metadata": {},
   "outputs": [
    {
     "data": {
      "text/plain": [
       "['Standard', 'CCG', '5′ UTR', '≥200', 'FRAXE mental retardation (FRAXE)']"
      ]
     },
     "execution_count": 9,
     "metadata": {},
     "output_type": "execute_result"
    }
   ],
   "source": [
    "str_data_dict['AFF2']"
   ]
  },
  {
   "cell_type": "code",
   "execution_count": 10,
   "metadata": {},
   "outputs": [
    {
     "data": {
      "text/html": [
       "<div>\n",
       "<style scoped>\n",
       "    .dataframe tbody tr th:only-of-type {\n",
       "        vertical-align: middle;\n",
       "    }\n",
       "\n",
       "    .dataframe tbody tr th {\n",
       "        vertical-align: top;\n",
       "    }\n",
       "\n",
       "    .dataframe thead th {\n",
       "        text-align: right;\n",
       "    }\n",
       "</style>\n",
       "<table border=\"1\" class=\"dataframe\">\n",
       "  <thead>\n",
       "    <tr style=\"text-align: right;\">\n",
       "      <th></th>\n",
       "      <th>Locus</th>\n",
       "      <th>Repeat type</th>\n",
       "      <th>Motif</th>\n",
       "      <th>Region</th>\n",
       "      <th>Path. repeats</th>\n",
       "      <th>Disease</th>\n",
       "    </tr>\n",
       "  </thead>\n",
       "  <tbody>\n",
       "    <tr>\n",
       "      <th>0</th>\n",
       "      <td>AFF2</td>\n",
       "      <td>Standard</td>\n",
       "      <td>CCG</td>\n",
       "      <td>5′ UTR</td>\n",
       "      <td>≥200</td>\n",
       "      <td>FRAXE mental retardation (FRAXE)</td>\n",
       "    </tr>\n",
       "    <tr>\n",
       "      <th>1</th>\n",
       "      <td>AR</td>\n",
       "      <td>Standard</td>\n",
       "      <td>CAG</td>\n",
       "      <td>Coding</td>\n",
       "      <td>≥40</td>\n",
       "      <td>Spinal and bulbar muscular atrophy (SBMA)</td>\n",
       "    </tr>\n",
       "    <tr>\n",
       "      <th>2</th>\n",
       "      <td>ARX_1</td>\n",
       "      <td>Imperfect GCN</td>\n",
       "      <td>GCN</td>\n",
       "      <td>Coding</td>\n",
       "      <td>≥23≥18</td>\n",
       "      <td>Developmental and epileptic encephalopathy-1 (...</td>\n",
       "    </tr>\n",
       "    <tr>\n",
       "      <th>3</th>\n",
       "      <td>ARX_2</td>\n",
       "      <td>Imperfect GCN</td>\n",
       "      <td>GCN</td>\n",
       "      <td>Coding</td>\n",
       "      <td>≥20≥20≥23</td>\n",
       "      <td>Developmental and epileptic encephalopathy-1 (...</td>\n",
       "    </tr>\n",
       "    <tr>\n",
       "      <th>4</th>\n",
       "      <td>ATXN10</td>\n",
       "      <td>Standard</td>\n",
       "      <td>ATTCT</td>\n",
       "      <td>Intron</td>\n",
       "      <td>≥800</td>\n",
       "      <td>Spinocerebellar ataxia 10 (SCA10)</td>\n",
       "    </tr>\n",
       "  </tbody>\n",
       "</table>\n",
       "</div>"
      ],
      "text/plain": [
       "    Locus    Repeat type  Motif  Region Path. repeats  \\\n",
       "0    AFF2       Standard    CCG  5′ UTR          ≥200   \n",
       "1      AR       Standard    CAG  Coding           ≥40   \n",
       "2   ARX_1  Imperfect GCN    GCN  Coding        ≥23≥18   \n",
       "3   ARX_2  Imperfect GCN    GCN  Coding     ≥20≥20≥23   \n",
       "4  ATXN10       Standard  ATTCT  Intron          ≥800   \n",
       "\n",
       "                                             Disease  \n",
       "0                   FRAXE mental retardation (FRAXE)  \n",
       "1          Spinal and bulbar muscular atrophy (SBMA)  \n",
       "2  Developmental and epileptic encephalopathy-1 (...  \n",
       "3  Developmental and epileptic encephalopathy-1 (...  \n",
       "4                  Spinocerebellar ataxia 10 (SCA10)  "
      ]
     },
     "execution_count": 10,
     "metadata": {},
     "output_type": "execute_result"
    }
   ],
   "source": [
    "parsed_df = pd.DataFrame.from_dict(str_data_dict).T\n",
    "parsed_df.reset_index(inplace=True)\n",
    "parsed_df.columns = column_headers\n",
    "parsed_df.head()"
   ]
  },
  {
   "cell_type": "code",
   "execution_count": null,
   "metadata": {},
   "outputs": [],
   "source": []
  }
 ],
 "metadata": {
  "kernelspec": {
   "display_name": "Python 3.10.5 64-bit",
   "language": "python",
   "name": "python3"
  },
  "language_info": {
   "codemirror_mode": {
    "name": "ipython",
    "version": 3
   },
   "file_extension": ".py",
   "mimetype": "text/x-python",
   "name": "python",
   "nbconvert_exporter": "python",
   "pygments_lexer": "ipython3",
   "version": "3.10.5"
  },
  "orig_nbformat": 4,
  "vscode": {
   "interpreter": {
    "hash": "3cc6493db92325fa968b81340e82a6b79eecfe1f2058221287aec0e7bfa94196"
   }
  }
 },
 "nbformat": 4,
 "nbformat_minor": 2
}
